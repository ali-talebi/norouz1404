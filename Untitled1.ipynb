{
 "cells": [
  {
   "cell_type": "code",
   "execution_count": 1,
   "id": "7c6ae47a-c5fe-4563-b88d-feaef6a7806f",
   "metadata": {},
   "outputs": [],
   "source": [
    "import pandas as pd "
   ]
  },
  {
   "cell_type": "code",
   "execution_count": 4,
   "id": "58b43024-b655-4dd3-a75c-a33176176813",
   "metadata": {},
   "outputs": [],
   "source": [
    "df = pd.read_csv('covariance_robust.csv')"
   ]
  },
  {
   "cell_type": "code",
   "execution_count": 5,
   "id": "0d821e18-9b69-43fb-8427-d633d4e6bde1",
   "metadata": {},
   "outputs": [
    {
     "data": {
      "text/html": [
       "<div>\n",
       "<style scoped>\n",
       "    .dataframe tbody tr th:only-of-type {\n",
       "        vertical-align: middle;\n",
       "    }\n",
       "\n",
       "    .dataframe tbody tr th {\n",
       "        vertical-align: top;\n",
       "    }\n",
       "\n",
       "    .dataframe thead th {\n",
       "        text-align: right;\n",
       "    }\n",
       "</style>\n",
       "<table border=\"1\" class=\"dataframe\">\n",
       "  <thead>\n",
       "    <tr style=\"text-align: right;\">\n",
       "      <th></th>\n",
       "      <th>0</th>\n",
       "      <th>1</th>\n",
       "      <th>2</th>\n",
       "      <th>3</th>\n",
       "      <th>4</th>\n",
       "      <th>5</th>\n",
       "    </tr>\n",
       "  </thead>\n",
       "  <tbody>\n",
       "    <tr>\n",
       "      <th>0</th>\n",
       "      <td>0.018868</td>\n",
       "      <td>0.003261</td>\n",
       "      <td>0.003383</td>\n",
       "      <td>0.010570</td>\n",
       "      <td>-0.002369</td>\n",
       "      <td>0.002779</td>\n",
       "    </tr>\n",
       "    <tr>\n",
       "      <th>1</th>\n",
       "      <td>0.003261</td>\n",
       "      <td>0.023019</td>\n",
       "      <td>-0.010925</td>\n",
       "      <td>-0.017166</td>\n",
       "      <td>0.013723</td>\n",
       "      <td>-0.005590</td>\n",
       "    </tr>\n",
       "    <tr>\n",
       "      <th>2</th>\n",
       "      <td>0.003383</td>\n",
       "      <td>-0.010925</td>\n",
       "      <td>0.016269</td>\n",
       "      <td>0.007329</td>\n",
       "      <td>-0.017218</td>\n",
       "      <td>0.009967</td>\n",
       "    </tr>\n",
       "    <tr>\n",
       "      <th>3</th>\n",
       "      <td>0.010570</td>\n",
       "      <td>-0.017166</td>\n",
       "      <td>0.007329</td>\n",
       "      <td>0.024543</td>\n",
       "      <td>-0.008199</td>\n",
       "      <td>0.004440</td>\n",
       "    </tr>\n",
       "    <tr>\n",
       "      <th>4</th>\n",
       "      <td>-0.002369</td>\n",
       "      <td>0.013723</td>\n",
       "      <td>-0.017218</td>\n",
       "      <td>-0.008199</td>\n",
       "      <td>0.020721</td>\n",
       "      <td>-0.009156</td>\n",
       "    </tr>\n",
       "    <tr>\n",
       "      <th>5</th>\n",
       "      <td>0.002779</td>\n",
       "      <td>-0.005590</td>\n",
       "      <td>0.009967</td>\n",
       "      <td>0.004440</td>\n",
       "      <td>-0.009156</td>\n",
       "      <td>0.007308</td>\n",
       "    </tr>\n",
       "  </tbody>\n",
       "</table>\n",
       "</div>"
      ],
      "text/plain": [
       "          0         1         2         3         4         5\n",
       "0  0.018868  0.003261  0.003383  0.010570 -0.002369  0.002779\n",
       "1  0.003261  0.023019 -0.010925 -0.017166  0.013723 -0.005590\n",
       "2  0.003383 -0.010925  0.016269  0.007329 -0.017218  0.009967\n",
       "3  0.010570 -0.017166  0.007329  0.024543 -0.008199  0.004440\n",
       "4 -0.002369  0.013723 -0.017218 -0.008199  0.020721 -0.009156\n",
       "5  0.002779 -0.005590  0.009967  0.004440 -0.009156  0.007308"
      ]
     },
     "execution_count": 5,
     "metadata": {},
     "output_type": "execute_result"
    }
   ],
   "source": [
    "df"
   ]
  },
  {
   "cell_type": "code",
   "execution_count": null,
   "id": "e7c4b5c0-440e-4508-840c-04b79957aa17",
   "metadata": {},
   "outputs": [],
   "source": []
  }
 ],
 "metadata": {
  "kernelspec": {
   "display_name": "Python 3 (ipykernel)",
   "language": "python",
   "name": "python3"
  },
  "language_info": {
   "codemirror_mode": {
    "name": "ipython",
    "version": 3
   },
   "file_extension": ".py",
   "mimetype": "text/x-python",
   "name": "python",
   "nbconvert_exporter": "python",
   "pygments_lexer": "ipython3",
   "version": "3.9.0b5"
  }
 },
 "nbformat": 4,
 "nbformat_minor": 5
}
